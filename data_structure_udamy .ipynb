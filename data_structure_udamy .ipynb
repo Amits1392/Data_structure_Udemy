{
 "cells": [
  {
   "cell_type": "code",
   "execution_count": 1,
   "id": "72e62f3d",
   "metadata": {},
   "outputs": [
    {
     "name": "stdout",
     "output_type": "stream",
     "text": [
      "6\n"
     ]
    }
   ],
   "source": [
    "def gcd(a,b):\n",
    "    if b == 0:\n",
    "        return a\n",
    "    else:\n",
    "        return gcd(b, a%b)\n",
    "\n",
    "print(gcd(48,18))"
   ]
  },
  {
   "cell_type": "code",
   "execution_count": 2,
   "id": "e7b683d5",
   "metadata": {},
   "outputs": [
    {
     "data": {
      "text/plain": [
       "1101"
      ]
     },
     "execution_count": 2,
     "metadata": {},
     "output_type": "execute_result"
    }
   ],
   "source": [
    "def decimalToBinary(n):\n",
    "    assert int(n) == n # \"the parameter must be intger only \"\n",
    "    if n==0:\n",
    "        return 0\n",
    "    else:\n",
    "        return n%2 + 10* decimalToBinary(int(n/2))\n",
    "\n",
    "\n",
    "decimalToBinary(13)"
   ]
  },
  {
   "cell_type": "code",
   "execution_count": null,
   "id": "2bb21fc7",
   "metadata": {},
   "outputs": [],
   "source": []
  },
  {
   "cell_type": "code",
   "execution_count": null,
   "id": "f035f039",
   "metadata": {},
   "outputs": [],
   "source": []
  },
  {
   "cell_type": "code",
   "execution_count": 3,
   "id": "028e3a49",
   "metadata": {},
   "outputs": [
    {
     "name": "stdout",
     "output_type": "stream",
     "text": [
      "array('d', [1.3, 1.5, 1.6])\n"
     ]
    }
   ],
   "source": [
    "from array import *\n",
    "\n",
    "arr1 = array(\"i\", [1,2,3,4,5,6])\n",
    "arr2 = array(\"d\", [1.3,1.5,1.6])\n",
    "\n",
    "\n",
    "print(arr2)"
   ]
  },
  {
   "cell_type": "code",
   "execution_count": 4,
   "id": "5f43279f",
   "metadata": {},
   "outputs": [],
   "source": [
    "arr1.insert(2,0)"
   ]
  },
  {
   "cell_type": "code",
   "execution_count": 5,
   "id": "6f0aaaa5",
   "metadata": {},
   "outputs": [
    {
     "data": {
      "text/plain": [
       "array('i', [1, 2, 0, 3, 4, 5, 6])"
      ]
     },
     "execution_count": 5,
     "metadata": {},
     "output_type": "execute_result"
    }
   ],
   "source": [
    "arr1"
   ]
  },
  {
   "cell_type": "code",
   "execution_count": 6,
   "id": "9e6b2ea6",
   "metadata": {},
   "outputs": [
    {
     "name": "stdout",
     "output_type": "stream",
     "text": [
      "1\n",
      "2\n",
      "0\n",
      "3\n",
      "4\n",
      "5\n",
      "6\n"
     ]
    }
   ],
   "source": [
    "def traverseArray(array):\n",
    "    for i in array:\n",
    "        print(i)\n",
    "    \n",
    "traverseArray(arr1)"
   ]
  },
  {
   "cell_type": "code",
   "execution_count": 7,
   "id": "cf9082e7",
   "metadata": {},
   "outputs": [],
   "source": [
    "arr3 = array('i', [1, 2, 0, 3, 4, 5, 6])\n",
    "\n",
    "arr3.remove(4)"
   ]
  },
  {
   "cell_type": "code",
   "execution_count": 8,
   "id": "748a3ac2",
   "metadata": {},
   "outputs": [
    {
     "data": {
      "text/plain": [
       "array('i', [1, 2, 0, 3, 5, 6])"
      ]
     },
     "execution_count": 8,
     "metadata": {},
     "output_type": "execute_result"
    }
   ],
   "source": [
    "arr3"
   ]
  },
  {
   "cell_type": "code",
   "execution_count": 9,
   "id": "b0739b85",
   "metadata": {},
   "outputs": [
    {
     "name": "stdout",
     "output_type": "stream",
     "text": [
      "1\n",
      "2\n",
      "34\n",
      "5\n",
      "6\n",
      "7\n"
     ]
    }
   ],
   "source": [
    "from array import *\n",
    "\n",
    "my_array = array('i', [1,2,34,5,6,7])\n",
    "\n",
    "for i in my_array:\n",
    "    print(i)"
   ]
  },
  {
   "cell_type": "code",
   "execution_count": 10,
   "id": "105f7afb",
   "metadata": {},
   "outputs": [
    {
     "data": {
      "text/plain": [
       "34"
      ]
     },
     "execution_count": 10,
     "metadata": {},
     "output_type": "execute_result"
    }
   ],
   "source": [
    "my_array[2]"
   ]
  },
  {
   "cell_type": "code",
   "execution_count": 11,
   "id": "a3b05e19",
   "metadata": {},
   "outputs": [
    {
     "data": {
      "text/plain": [
       "array('i', [1, 2, 34, 5, 6, 7, 355])"
      ]
     },
     "execution_count": 11,
     "metadata": {},
     "output_type": "execute_result"
    }
   ],
   "source": [
    "my_array.append(355)\n",
    "my_array"
   ]
  },
  {
   "cell_type": "code",
   "execution_count": 12,
   "id": "2e934b6d",
   "metadata": {},
   "outputs": [
    {
     "data": {
      "text/plain": [
       "array('i', [1, 2, 20, 34, 5, 6, 7, 355])"
      ]
     },
     "execution_count": 12,
     "metadata": {},
     "output_type": "execute_result"
    }
   ],
   "source": [
    "my_array.insert(2,20)\n",
    "my_array"
   ]
  },
  {
   "cell_type": "code",
   "execution_count": 13,
   "id": "d35f116f",
   "metadata": {},
   "outputs": [],
   "source": [
    "arr3 = array('i', [10, 20, 30, 33, 44, 55, 66])"
   ]
  },
  {
   "cell_type": "code",
   "execution_count": 14,
   "id": "a0ef5e18",
   "metadata": {},
   "outputs": [
    {
     "data": {
      "text/plain": [
       "array('i', [1, 2, 20, 34, 5, 6, 7, 355, 10, 20, 30, 33, 44, 55, 66])"
      ]
     },
     "execution_count": 14,
     "metadata": {},
     "output_type": "execute_result"
    }
   ],
   "source": [
    "my_array.extend(arr3)\n",
    "my_array"
   ]
  },
  {
   "cell_type": "code",
   "execution_count": 15,
   "id": "b0f7dc87",
   "metadata": {},
   "outputs": [
    {
     "data": {
      "text/plain": [
       "array('i', [1, 2, 20, 34, 5, 6, 7, 355, 10, 20, 30, 33, 44, 55, 66, 20, 30, 40])"
      ]
     },
     "execution_count": 15,
     "metadata": {},
     "output_type": "execute_result"
    }
   ],
   "source": [
    "tempList = [20,30,40]\n",
    "\n",
    "my_array.fromlist(tempList)\n",
    "\n",
    "my_array"
   ]
  },
  {
   "cell_type": "code",
   "execution_count": 16,
   "id": "f76baacb",
   "metadata": {},
   "outputs": [],
   "source": [
    "my_array.remove(20)"
   ]
  },
  {
   "cell_type": "code",
   "execution_count": 17,
   "id": "76039b45",
   "metadata": {},
   "outputs": [
    {
     "data": {
      "text/plain": [
       "array('i', [1, 2, 34, 5, 6, 7, 355, 10, 20, 30, 33, 44, 55, 66, 20, 30, 40])"
      ]
     },
     "execution_count": 17,
     "metadata": {},
     "output_type": "execute_result"
    }
   ],
   "source": [
    "my_array"
   ]
  },
  {
   "cell_type": "code",
   "execution_count": 18,
   "id": "fa2162a8",
   "metadata": {},
   "outputs": [
    {
     "data": {
      "text/plain": [
       "array('i', [1, 2, 34, 5, 6, 7, 355, 10, 20, 30, 33, 44, 55, 66, 20, 30])"
      ]
     },
     "execution_count": 18,
     "metadata": {},
     "output_type": "execute_result"
    }
   ],
   "source": [
    "my_array.pop()\n",
    "\n",
    "my_array"
   ]
  },
  {
   "cell_type": "code",
   "execution_count": 19,
   "id": "16165eed",
   "metadata": {},
   "outputs": [],
   "source": [
    "import numpy as np\n",
    "\n",
    "twoDArray = np.array([[1,2,3],[4,5,6],[7,8,9]])"
   ]
  },
  {
   "cell_type": "code",
   "execution_count": 20,
   "id": "e8cc7c7a",
   "metadata": {},
   "outputs": [
    {
     "data": {
      "text/plain": [
       "array([[1, 2, 3],\n",
       "       [4, 5, 6],\n",
       "       [7, 8, 9]])"
      ]
     },
     "execution_count": 20,
     "metadata": {},
     "output_type": "execute_result"
    }
   ],
   "source": [
    "twoDArray"
   ]
  },
  {
   "cell_type": "code",
   "execution_count": 21,
   "id": "a4d4a063",
   "metadata": {},
   "outputs": [
    {
     "data": {
      "text/plain": [
       "array([[ 1,  2,  3],\n",
       "       [ 4,  5,  6],\n",
       "       [ 7,  8,  9],\n",
       "       [11, 12, 13]])"
      ]
     },
     "execution_count": 21,
     "metadata": {},
     "output_type": "execute_result"
    }
   ],
   "source": [
    "newtwoDArray = np.insert(twoDArray, 3 ,[11,12,13], axis = 0)\n",
    "newtwoDArray"
   ]
  },
  {
   "cell_type": "code",
   "execution_count": 22,
   "id": "28fff4fc",
   "metadata": {},
   "outputs": [
    {
     "data": {
      "text/plain": [
       "array([[1, 2, 3],\n",
       "       [4, 5, 6],\n",
       "       [7, 8, 9]])"
      ]
     },
     "execution_count": 22,
     "metadata": {},
     "output_type": "execute_result"
    }
   ],
   "source": [
    "twoDArray"
   ]
  },
  {
   "cell_type": "code",
   "execution_count": 23,
   "id": "cded8fc1",
   "metadata": {},
   "outputs": [],
   "source": [
    "newtwoDArray = np.append(twoDArray, [[5,6,70]], axis = 0)"
   ]
  },
  {
   "cell_type": "code",
   "execution_count": 24,
   "id": "be61c1dc",
   "metadata": {},
   "outputs": [
    {
     "data": {
      "text/plain": [
       "array([[ 1,  2,  3],\n",
       "       [ 4,  5,  6],\n",
       "       [ 7,  8,  9],\n",
       "       [ 5,  6, 70]])"
      ]
     },
     "execution_count": 24,
     "metadata": {},
     "output_type": "execute_result"
    }
   ],
   "source": [
    "newtwoDArray"
   ]
  },
  {
   "cell_type": "code",
   "execution_count": 25,
   "id": "dda4b28f",
   "metadata": {},
   "outputs": [
    {
     "name": "stdout",
     "output_type": "stream",
     "text": [
      "70\n"
     ]
    }
   ],
   "source": [
    "def accessElement(array, rowIndex, colIndex):\n",
    "    if rowIndex >= len(array) or colIndex >= len(array[0]):\n",
    "        print('Incorrect index')\n",
    "        \n",
    "    else:\n",
    "        print(array[rowIndex][colIndex])\n",
    "        \n",
    "        \n",
    "accessElement(newtwoDArray, 3,2)"
   ]
  },
  {
   "cell_type": "code",
   "execution_count": 26,
   "id": "90bf8caa",
   "metadata": {},
   "outputs": [
    {
     "name": "stdout",
     "output_type": "stream",
     "text": [
      "The Element is not found\n"
     ]
    }
   ],
   "source": [
    "def searchTDArray(array, value):\n",
    "    for i in range(len(array)):\n",
    "        for j in range(len(array[0])):\n",
    "            if array[i][j] == value:\n",
    "                return 'T searchTDArray(array, value) '+str(i)+' '+str(j)\n",
    "            \n",
    "    return \"The Element is not found\"\n",
    "print(searchTDArray(newtwoDArray, 777))"
   ]
  },
  {
   "cell_type": "code",
   "execution_count": 27,
   "id": "7f648943",
   "metadata": {},
   "outputs": [
    {
     "name": "stdout",
     "output_type": "stream",
     "text": [
      "[[ 1  2  3]\n",
      " [ 4  5  6]\n",
      " [ 7  8  9]\n",
      " [ 5  6 70]]\n",
      "**********************\n",
      "[[ 4  5  6]\n",
      " [ 7  8  9]\n",
      " [ 5  6 70]]\n"
     ]
    }
   ],
   "source": [
    "print(newtwoDArray)\n",
    "print(\"**********************\")\n",
    "newDArray = np.delete(newtwoDArray, 0 ,axis = 0)\n",
    "\n",
    "print(newDArray)"
   ]
  },
  {
   "cell_type": "code",
   "execution_count": 28,
   "id": "ef52ea29",
   "metadata": {},
   "outputs": [
    {
     "name": "stdout",
     "output_type": "stream",
     "text": [
      "4\n"
     ]
    }
   ],
   "source": [
    "myList = [2,4,5,6,70,80]\n",
    "def searchinList(list, value):\n",
    "    for i in list:\n",
    "        if i == value:\n",
    "            return list.index(value)\n",
    "    return \"The value does not exist in the list\"\n",
    "\n",
    "print(searchinList(myList, 70))\n",
    "        "
   ]
  },
  {
   "cell_type": "code",
   "execution_count": 29,
   "id": "8ef420cf",
   "metadata": {},
   "outputs": [
    {
     "name": "stdout",
     "output_type": "stream",
     "text": [
      "Enter a number: 2\n",
      "Enter a number: 23\n",
      "Enter a number: 23\n",
      "Enter a number: 23\n",
      "Enter a number: done\n",
      "Average  17.75\n"
     ]
    }
   ],
   "source": [
    "total = 0\n",
    "count = 0\n",
    "\n",
    "while (True):\n",
    "    inp = input(\"Enter a number: \")\n",
    "    if inp == 'done' : break\n",
    "    \n",
    "    value = float(inp)\n",
    "    total = total + value\n",
    "    count = count + 1\n",
    "    average = total / count\n",
    "    \n",
    "    \n",
    "print(\"Average \", average)"
   ]
  },
  {
   "cell_type": "code",
   "execution_count": 32,
   "id": "24f88901",
   "metadata": {},
   "outputs": [
    {
     "name": "stdout",
     "output_type": "stream",
     "text": [
      "Enter the Number: 1\n",
      "Enter the Number: 34\n",
      "Enter the Number: 43\n",
      "Enter the Number: done\n",
      "Average 26.0\n"
     ]
    }
   ],
   "source": [
    "myList = []\n",
    "\n",
    "while (True):\n",
    "    inp = input(\"Enter the Number: \")\n",
    "    if inp == \"done\" : break\n",
    "        \n",
    "    value = float(inp)\n",
    "    myList.append(value)\n",
    "    \n",
    "average = sum(myList)/ len(myList)\n",
    "    \n",
    "print(\"Average\", average)"
   ]
  },
  {
   "cell_type": "code",
   "execution_count": 33,
   "id": "bec17acf",
   "metadata": {},
   "outputs": [
    {
     "name": "stdout",
     "output_type": "stream",
     "text": [
      "['spam', 'spam', 'spam']\n"
     ]
    }
   ],
   "source": [
    "a = 'spam spam spam'\n",
    "\n",
    "b = a.split()\n",
    "print(b)"
   ]
  },
  {
   "cell_type": "code",
   "execution_count": 34,
   "id": "dc5c0f50",
   "metadata": {},
   "outputs": [],
   "source": [
    "l1 =  [1,3,4,5]\n",
    "l2 = l1\n",
    "l3 = l1[:]\n",
    "l3[0] = 10\n",
    "l2[1] = 30"
   ]
  },
  {
   "cell_type": "code",
   "execution_count": 35,
   "id": "e991aa38",
   "metadata": {},
   "outputs": [
    {
     "name": "stdout",
     "output_type": "stream",
     "text": [
      "[1, 30, 4, 5]\n",
      "[1, 30, 4, 5]\n",
      "[10, 3, 4, 5]\n"
     ]
    }
   ],
   "source": [
    "print(l1)\n",
    "print(l2)\n",
    "print(l3)"
   ]
  },
  {
   "cell_type": "code",
   "execution_count": 36,
   "id": "da71d29a",
   "metadata": {},
   "outputs": [
    {
     "name": "stdout",
     "output_type": "stream",
     "text": [
      "how many days Temperature ?: \n"
     ]
    },
    {
     "ename": "ValueError",
     "evalue": "invalid literal for int() with base 10: ''",
     "output_type": "error",
     "traceback": [
      "\u001b[1;31m---------------------------------------------------------------------------\u001b[0m",
      "\u001b[1;31mValueError\u001b[0m                                Traceback (most recent call last)",
      "\u001b[1;32m<ipython-input-36-5b932baff106>\u001b[0m in \u001b[0;36m<module>\u001b[1;34m\u001b[0m\n\u001b[1;32m----> 1\u001b[1;33m \u001b[0mnumDays\u001b[0m \u001b[1;33m=\u001b[0m \u001b[0mint\u001b[0m\u001b[1;33m(\u001b[0m\u001b[0minput\u001b[0m\u001b[1;33m(\u001b[0m\u001b[1;34m\"how many days Temperature ?: \"\u001b[0m\u001b[1;33m)\u001b[0m\u001b[1;33m)\u001b[0m\u001b[1;33m\u001b[0m\u001b[1;33m\u001b[0m\u001b[0m\n\u001b[0m\u001b[0;32m      2\u001b[0m \u001b[0mtotal\u001b[0m \u001b[1;33m=\u001b[0m \u001b[1;36m0\u001b[0m\u001b[1;33m\u001b[0m\u001b[1;33m\u001b[0m\u001b[0m\n\u001b[0;32m      3\u001b[0m \u001b[0mtemp\u001b[0m \u001b[1;33m=\u001b[0m \u001b[1;33m[\u001b[0m\u001b[1;33m]\u001b[0m\u001b[1;33m\u001b[0m\u001b[1;33m\u001b[0m\u001b[0m\n\u001b[0;32m      4\u001b[0m \u001b[1;32mfor\u001b[0m \u001b[0mi\u001b[0m \u001b[1;32min\u001b[0m \u001b[0mrange\u001b[0m\u001b[1;33m(\u001b[0m\u001b[1;36m1\u001b[0m\u001b[1;33m,\u001b[0m \u001b[0mnumDays\u001b[0m\u001b[1;33m+\u001b[0m\u001b[1;36m1\u001b[0m\u001b[1;33m)\u001b[0m\u001b[1;33m:\u001b[0m\u001b[1;33m\u001b[0m\u001b[1;33m\u001b[0m\u001b[0m\n\u001b[0;32m      5\u001b[0m     \u001b[0mnextday\u001b[0m \u001b[1;33m=\u001b[0m \u001b[0mint\u001b[0m\u001b[1;33m(\u001b[0m\u001b[0minput\u001b[0m\u001b[1;33m(\u001b[0m\u001b[1;34m\"Day \"\u001b[0m \u001b[1;33m+\u001b[0m \u001b[0mstr\u001b[0m\u001b[1;33m(\u001b[0m\u001b[0mi\u001b[0m\u001b[1;33m)\u001b[0m \u001b[1;33m+\u001b[0m \u001b[1;34m\"'s high temp : \"\u001b[0m\u001b[1;33m)\u001b[0m\u001b[1;33m)\u001b[0m\u001b[1;33m\u001b[0m\u001b[1;33m\u001b[0m\u001b[0m\n",
      "\u001b[1;31mValueError\u001b[0m: invalid literal for int() with base 10: ''"
     ]
    }
   ],
   "source": [
    "numDays = int(input(\"how many days Temperature ?: \"))\n",
    "total = 0\n",
    "temp = []\n",
    "for i in range(1, numDays+1):\n",
    "    nextday = int(input(\"Day \" + str(i) + \"'s high temp : \"))\n",
    "    temp.append(nextday)\n",
    "    total += nextday\n",
    "    \n",
    "avg = round(total/numDays, 2)\n",
    "\n",
    "count = 0\n",
    "for j in temp:\n",
    "    if j > avg:\n",
    "        count +=1\n",
    "print(count)\n",
    "print(\"\\nAverage = \"+str(avg))"
   ]
  },
  {
   "cell_type": "code",
   "execution_count": 37,
   "id": "815184ff",
   "metadata": {},
   "outputs": [
    {
     "name": "stdout",
     "output_type": "stream",
     "text": [
      "17.0\n"
     ]
    }
   ],
   "source": [
    "mylist = [1,2,3,4,5,6,7,8,9,10,11,12,13,14,15,16]\n",
    "\n",
    "\n",
    "\n",
    "def findMissing(list, n):\n",
    "    sum1 = n*(n+1)/2\n",
    "    sum2 = sum(list)\n",
    "    print(sum1-sum2)\n",
    "    \n",
    "findMissing(mylist, len(mylist)+1)"
   ]
  },
  {
   "cell_type": "code",
   "execution_count": 38,
   "id": "b8d5ac56",
   "metadata": {},
   "outputs": [
    {
     "name": "stdout",
     "output_type": "stream",
     "text": [
      "2 7\n",
      "3 6\n",
      "4 5\n"
     ]
    }
   ],
   "source": [
    "def findPairs(nums,target):\n",
    "    for i in range(len(nums)):\n",
    "        for j in range(i+1 , len(nums)):\n",
    "            if nums[i] == nums[j]:\n",
    "                continue\n",
    "            elif nums[i] + nums[j] == target:\n",
    "                print(nums[i],nums[j])\n",
    "                \n",
    "                \n",
    "mylist = [1,2,3,4,5,6,7]\n",
    "\n",
    "findPairs(mylist,9)"
   ]
  },
  {
   "cell_type": "code",
   "execution_count": 39,
   "id": "fac72758",
   "metadata": {},
   "outputs": [
    {
     "data": {
      "text/plain": [
       "'Number not present'"
      ]
     },
     "execution_count": 39,
     "metadata": {},
     "output_type": "execute_result"
    }
   ],
   "source": [
    "import numpy as np\n",
    "\n",
    "myArray = np.array([1,2,3,4,5,6,7,8,9,10,21])\n",
    "\n",
    "def findNumber(array, number):\n",
    "    for i  in array:\n",
    "        if i == number:\n",
    "            return True\n",
    "    else:\n",
    "        return \"Number not present\"\n",
    "    \n",
    "findNumber(myArray, 17)"
   ]
  },
  {
   "cell_type": "code",
   "execution_count": 40,
   "id": "819e65b8",
   "metadata": {},
   "outputs": [
    {
     "name": "stdout",
     "output_type": "stream",
     "text": [
      "False\n",
      "True\n"
     ]
    }
   ],
   "source": [
    "def isUnique(list):\n",
    "    a = []\n",
    "    for i in list:\n",
    "        if i in a:\n",
    "            return False\n",
    "        else: \n",
    "            a.append(i)\n",
    "            \n",
    "    return True\n",
    "\n",
    "list = [1,2,34,55,34,55,65]\n",
    "list1 = [1,2,3,4,5,6]\n",
    "print(isUnique(list))\n",
    "print(isUnique(list1))"
   ]
  },
  {
   "cell_type": "code",
   "execution_count": 41,
   "id": "71779569",
   "metadata": {},
   "outputs": [
    {
     "data": {
      "text/plain": [
       "False"
      ]
     },
     "execution_count": 41,
     "metadata": {},
     "output_type": "execute_result"
    }
   ],
   "source": [
    "def permutation(list1,list2):\n",
    "    if len(list1) != len(list2):\n",
    "        return False\n",
    "    else:\n",
    "        list1.sort()\n",
    "        list2.sort()\n",
    "        if list1 == list2:\n",
    "            return True\n",
    "        else:\n",
    "            return False \n",
    "        \n",
    "        \n",
    "list1 = [1,2,3]\n",
    "list2 = [1,3,1]\n",
    "\n",
    "permutation(list1,list2)"
   ]
  },
  {
   "cell_type": "code",
   "execution_count": 42,
   "id": "fa3bc8a9",
   "metadata": {},
   "outputs": [
    {
     "name": "stdout",
     "output_type": "stream",
     "text": [
      "[[1 2 3]\n",
      " [4 5 6]\n",
      " [7 8 9]]\n",
      "**************\n",
      "[[7 4 1]\n",
      " [8 5 2]\n",
      " [9 6 3]]\n"
     ]
    }
   ],
   "source": [
    "import numpy as np\n",
    "\n",
    "myArray = np.array([[1,2,3],[4,5,6],[7,8,9]])\n",
    "print(myArray)\n",
    "print(\"**************\")\n",
    "def rotateMat(matrix):\n",
    "    n = len(matrix)\n",
    "    for layer in range(n//2):\n",
    "        first = layer\n",
    "        last = n-layer-1\n",
    "        for i in range(first,last):\n",
    "            top = matrix[layer][i]\n",
    "            matrix[layer][i] = matrix[-i-1][layer]\n",
    "            matrix[-i-1][layer] = matrix[-layer-1][-i-1]\n",
    "            matrix[-layer-1][-i-1] = matrix[i][-layer-1]\n",
    "            matrix[i][-layer-1] = top\n",
    "    return matrix\n",
    "    \n",
    " \n",
    "print(rotateMat(myArray))\n",
    "            \n",
    "            "
   ]
  },
  {
   "cell_type": "code",
   "execution_count": 43,
   "id": "c18e8f58",
   "metadata": {},
   "outputs": [
    {
     "name": "stdout",
     "output_type": "stream",
     "text": [
      "('a', 's', 'k', 'a', 'u', 'd', 'h', 's', 'k', 'f', 'i', 'f', 'j', 's', 'd', 'f', 'i', 'k', 'v', 'n', 'x', 'c', 'v', 'u', 'x', 'j', 'v', 'j', 'c', ' ', 's', 'd', 'f', 'd', 'f', 'j', 'f', 'j', 'k', 'h', 'f', 's', 'u', 'i', 'f', 'j', 'k', 'n', 'v', 'k', 'j', 'v', 'j', 'v', 'v')\n"
     ]
    }
   ],
   "source": [
    "a = tuple('askaudhskfifjsdfikvnxcvuxjvjc sdfdfjfjkhfsuifjknvkjvjvv')\n",
    "print(a)"
   ]
  },
  {
   "cell_type": "code",
   "execution_count": 44,
   "id": "e4b4be34",
   "metadata": {},
   "outputs": [
    {
     "name": "stdout",
     "output_type": "stream",
     "text": [
      "The 2 is tfound at 0 index\n"
     ]
    }
   ],
   "source": [
    "def searchTuple(p_tuple, element):\n",
    "    for i in range(len(p_tuple)):\n",
    "        if p_tuple[i] == element:\n",
    "            return f\"The {element} is tfound at {i} index\"\n",
    "    return \"The element is not found\"\n",
    "\n",
    "newTuple = (2,3,4,5,67,20)\n",
    "\n",
    "print(searchTuple(newTuple, 2))"
   ]
  },
  {
   "cell_type": "code",
   "execution_count": 45,
   "id": "e9b702be",
   "metadata": {},
   "outputs": [],
   "source": [
    "class Node:\n",
    "    def __init__(self, value= None):\n",
    "        self.value = value\n",
    "        self.next = None\n",
    "        \n",
    "class SlinkedList:\n",
    "    def __init__(self):\n",
    "        self.head = None\n",
    "        self.tail = None\n",
    "        \n",
    "        \n",
    "singlyLinkedList = SlinkedList()\n",
    "node1 = Node(1)\n",
    "node2 = Node(2)\n",
    "\n",
    "singlyLinkedList.head = node1\n",
    "singlyLinkedList.head.next = node2\n",
    "singlyLinkedList.tal = node2\n",
    "\n"
   ]
  },
  {
   "cell_type": "code",
   "execution_count": 46,
   "id": "545d912e",
   "metadata": {},
   "outputs": [
    {
     "name": "stdout",
     "output_type": "stream",
     "text": [
      "[1, 2, 3, 0, 4]\n"
     ]
    }
   ],
   "source": [
    "class Node:\n",
    "    def __init__(self, value= None):\n",
    "        self.value = value\n",
    "        self.next = None\n",
    "        \n",
    "class SLinkedList:\n",
    "    def __init__(self):\n",
    "        self.head = None\n",
    "        self.tail = None\n",
    "    \n",
    "    def __iter__(self):\n",
    "        node = self.head\n",
    "        while node:\n",
    "            yield node\n",
    "            node = node.next\n",
    "        \n",
    "    def insertSLL(self, value, location):\n",
    "        newNode = Node(value)\n",
    "        if self.head is None:\n",
    "            self.head = newNode\n",
    "            self.tail = newNode\n",
    "        else:\n",
    "            if location == 0:\n",
    "                newNode.next = self.head\n",
    "                self.head = newNode\n",
    "            elif location == 1:\n",
    "                newNode.next = None\n",
    "                self.tail.next = newNode \n",
    "                self.tail = newNode\n",
    "            else:\n",
    "                tempNode = self.head\n",
    "                index = 0\n",
    "                while index < location-1:\n",
    "                    tempNode = tempNode.next\n",
    "                    index += 1\n",
    "                nextNode = tempNode.next\n",
    "                tempNode.next = newNode\n",
    "                newNode.next = nextNode\n",
    "                if tempNode == self.tail:\n",
    "                    self.tail = newNode\n",
    "                    \n",
    "    \n",
    "    \n",
    "    \n",
    "singlyLinkedList = SLinkedList()\n",
    "\n",
    "\n",
    "singlyLinkedList.insertSLL(1,1)\n",
    "singlyLinkedList.insertSLL(2,1)\n",
    "singlyLinkedList.insertSLL(3,1)\n",
    "singlyLinkedList.insertSLL(4,1)\n",
    "\n",
    "\n",
    "singlyLinkedList.insertSLL(0,3)\n",
    "print([node.value for node in singlyLinkedList])"
   ]
  },
  {
   "cell_type": "code",
   "execution_count": 47,
   "id": "3df31170",
   "metadata": {},
   "outputs": [
    {
     "name": "stdout",
     "output_type": "stream",
     "text": [
      "[1, 2, 3, 0, 4]\n",
      "1\n",
      "2\n",
      "3\n",
      "0\n",
      "4\n"
     ]
    }
   ],
   "source": [
    "class Node:\n",
    "    def __init__(self, value= None):\n",
    "        self.value = value\n",
    "        self.next = None\n",
    "        \n",
    "class SLinkedList:\n",
    "    def __init__(self):\n",
    "        self.head = None\n",
    "        self.tail = None\n",
    "    \n",
    "    def __iter__(self):\n",
    "        node = self.head\n",
    "        while node:\n",
    "            yield node\n",
    "            node = node.next\n",
    "        \n",
    "    def insertSLL(self, value, location):\n",
    "        newNode = Node(value)\n",
    "        if self.head is None:\n",
    "            self.head = newNode\n",
    "            self.tail = newNode\n",
    "        else:\n",
    "            if location == 0:\n",
    "                newNode.next = self.head\n",
    "                self.head = newNode\n",
    "            elif location == 1:\n",
    "                newNode.next = None\n",
    "                self.tail.next = newNode \n",
    "                self.tail = newNode\n",
    "            else:\n",
    "                tempNode = self.head\n",
    "                index = 0\n",
    "                while index < location-1:\n",
    "                    tempNode = tempNode.next\n",
    "                    index += 1\n",
    "                nextNode = tempNode.next\n",
    "                tempNode.next = newNode\n",
    "                newNode.next = nextNode\n",
    "                \n",
    "                \n",
    "                \n",
    "    def traverseSLL(self):\n",
    "        if self.head is None:\n",
    "            print(\"The Singly Linked List does not exist\")\n",
    "            \n",
    "        else:\n",
    "            node = self.head\n",
    "            while node is not None:\n",
    "                print(node.value)\n",
    "                node = node.next\n",
    "                \n",
    "                \n",
    "                        \n",
    "    \n",
    "    \n",
    "    \n",
    "singlyLinkedList = SLinkedList()\n",
    "\n",
    "\n",
    "singlyLinkedList.insertSLL(1,1)\n",
    "singlyLinkedList.insertSLL(2,1)\n",
    "singlyLinkedList.insertSLL(3,1)\n",
    "singlyLinkedList.insertSLL(4,1)\n",
    "\n",
    "\n",
    "singlyLinkedList.insertSLL(0,3)\n",
    "print([node.value for node in singlyLinkedList])\n",
    "singlyLinkedList.traverseSLL()"
   ]
  },
  {
   "cell_type": "code",
   "execution_count": 48,
   "id": "d1705dff",
   "metadata": {},
   "outputs": [
    {
     "name": "stdout",
     "output_type": "stream",
     "text": [
      "3\n"
     ]
    }
   ],
   "source": [
    "class Node:\n",
    "    def __init__(self, value= None):\n",
    "        self.value = value\n",
    "        self.next = None\n",
    "        \n",
    "class SLinkedList:\n",
    "    def __init__(self):\n",
    "        self.head = None\n",
    "        self.tail = None\n",
    "    \n",
    "    def __iter__(self):\n",
    "        node = self.head\n",
    "        while node:\n",
    "            yield node\n",
    "            node = node.next\n",
    "        \n",
    "    def insertSLL(self, value, location):\n",
    "        newNode = Node(value)\n",
    "        if self.head is None:\n",
    "            self.head = newNode\n",
    "            self.tail = newNode\n",
    "        else:\n",
    "            if location == 0:\n",
    "                newNode.next = self.head\n",
    "                self.head = newNode\n",
    "            elif location == 1:\n",
    "                newNode.next = None\n",
    "                self.tail.next = newNode \n",
    "                self.tail = newNode\n",
    "            else:\n",
    "                tempNode = self.head\n",
    "                index = 0\n",
    "                while index < location-1:\n",
    "                    tempNode = tempNode.next\n",
    "                    index += 1\n",
    "                nextNode = tempNode.next\n",
    "                tempNode.next = newNode\n",
    "                newNode.next = nextNode\n",
    "                \n",
    "                \n",
    "                \n",
    "    def traverseSLL(self):\n",
    "        if self.head is None:\n",
    "            print(\"The Singly Linked List does not exist\")\n",
    "            \n",
    "        else:\n",
    "            node = self.head\n",
    "            while node is not None:\n",
    "                print(node.value)\n",
    "                node = node.next\n",
    "                \n",
    "                \n",
    "                        \n",
    "    def searchSLL(self, nodeValue):\n",
    "        if self.head is None:\n",
    "            return \"The list does not exist\"\n",
    "        else :\n",
    "            node = self.head\n",
    "            while node is not None:\n",
    "                if node.value == nodeValue:\n",
    "                    return node.value\n",
    "                node = node.next\n",
    "            return \"The value does not exits in this list\"\n",
    "        \n",
    "                \n",
    "    \n",
    "    \n",
    "singlyLinkedList = SLinkedList()\n",
    "\n",
    "\n",
    "singlyLinkedList.insertSLL(1,1)\n",
    "singlyLinkedList.insertSLL(2,1)\n",
    "singlyLinkedList.insertSLL(3,1)\n",
    "singlyLinkedList.insertSLL(4,1)\n",
    "\n",
    "\n",
    "singlyLinkedList.insertSLL(0,3)\n",
    "# print([node.value for node in singlyLinkedList])\n",
    "# singlyLinkedList.traverseSLL()\n",
    "\n",
    "print(singlyLinkedList.searchSLL(3))"
   ]
  },
  {
   "cell_type": "code",
   "execution_count": 49,
   "id": "7223c7b1",
   "metadata": {},
   "outputs": [
    {
     "name": "stdout",
     "output_type": "stream",
     "text": [
      "[1, 2, 3, 0, 4]\n",
      "1\n",
      "2\n",
      "3\n",
      "0\n",
      "4\n",
      "None\n",
      "[1, 2, 3, 0]\n"
     ]
    }
   ],
   "source": [
    "class Node:\n",
    "    def __init__(self, value= None):\n",
    "        self.value = value\n",
    "        self.next = None\n",
    "        \n",
    "class SLinkedList:\n",
    "    def __init__(self):\n",
    "        self.head = None\n",
    "        self.tail = None\n",
    "    \n",
    "    def __iter__(self):\n",
    "        node = self.head\n",
    "        while node:\n",
    "            yield node\n",
    "            node = node.next\n",
    "        \n",
    "    def insertSLL(self, value, location):\n",
    "        newNode = Node(value)\n",
    "        if self.head is None:\n",
    "            self.head = newNode\n",
    "            self.tail = newNode\n",
    "        else:\n",
    "            if location == 0:\n",
    "                newNode.next = self.head\n",
    "                self.head = newNode\n",
    "            elif location == 1:\n",
    "                newNode.next = None\n",
    "                self.tail.next = newNode \n",
    "                self.tail = newNode\n",
    "            else:\n",
    "                tempNode = self.head\n",
    "                index = 0\n",
    "                while index < location-1:\n",
    "                    tempNode = tempNode.next\n",
    "                    index += 1\n",
    "                nextNode = tempNode.next\n",
    "                tempNode.next = newNode\n",
    "                newNode.next = nextNode\n",
    "                \n",
    "                \n",
    "                \n",
    "    def traverseSLL(self):\n",
    "        if self.head is None:\n",
    "            print(\"The Singly Linked List does not exist\")\n",
    "            \n",
    "        else:\n",
    "            node = self.head\n",
    "            while node is not None:\n",
    "                print(node.value)\n",
    "                node = node.next\n",
    "                \n",
    "                \n",
    "                        \n",
    "    def searchSLL(self, nodeValue):\n",
    "        if self.head is None:\n",
    "            return \"The list does not exist\"\n",
    "        else :\n",
    "            node = self.head\n",
    "            while node is not None:\n",
    "                if node.value == nodeValue:\n",
    "                    return node.value\n",
    "                node = node.next\n",
    "            return \"The value does not exits in this list\"\n",
    "        \n",
    "                \n",
    "\n",
    "    def deleteNode(self, location):\n",
    "        if self.head is Node:\n",
    "            print(\"The SLL does not exits\")\n",
    "        else:\n",
    "            if location == 0:\n",
    "                if self.head == self.tail:\n",
    "                    self.head = None\n",
    "                    self.tail = None\n",
    "                \n",
    "                else:\n",
    "                    self.head = self.head.next\n",
    "            elif location == 1 :\n",
    "                if self.head == self.tail:\n",
    "                    self.head = None\n",
    "                    self.tail = None\n",
    "                else: \n",
    "                    node = self.head\n",
    "                    while node is not None:\n",
    "                        if node.next == self.tail:\n",
    "                            break\n",
    "                        node = node.next\n",
    "                    node.next = None\n",
    "                    self.tail = node\n",
    "            else:\n",
    "                tempNode = self.head\n",
    "                index = 0\n",
    "                while index < location -1 :\n",
    "                    tempNode = tempNode.next\n",
    "                    index +=1\n",
    "                nextNode = tempNode.next\n",
    "                tempNode.next = nextNode.next\n",
    "                \n",
    "                \n",
    "            \n",
    "            \n",
    "            \n",
    "            \n",
    "    \n",
    "singlyLinkedList = SLinkedList()\n",
    "\n",
    "\n",
    "singlyLinkedList.insertSLL(1,1)\n",
    "singlyLinkedList.insertSLL(2,1)\n",
    "singlyLinkedList.insertSLL(3,1)\n",
    "singlyLinkedList.insertSLL(4,1)\n",
    "\n",
    "\n",
    "singlyLinkedList.insertSLL(0,3)\n",
    "print([node.value for node in singlyLinkedList])\n",
    "singlyLinkedList.traverseSLL()\n",
    "\n",
    "print(singlyLinkedList.deleteNode(1))\n",
    "print([node.value for node in singlyLinkedList])"
   ]
  },
  {
   "cell_type": "code",
   "execution_count": 50,
   "id": "4a00ff06",
   "metadata": {},
   "outputs": [
    {
     "name": "stdout",
     "output_type": "stream",
     "text": [
      "[1, 2, 3, 0, 4]\n",
      "1\n",
      "2\n",
      "3\n",
      "0\n",
      "4\n",
      "None\n",
      "[]\n"
     ]
    }
   ],
   "source": [
    "class Node:\n",
    "    def __init__(self, value= None):\n",
    "        self.value = value\n",
    "        self.next = None\n",
    "        \n",
    "class SLinkedList:\n",
    "    def __init__(self):\n",
    "        self.head = None\n",
    "        self.tail = None\n",
    "    \n",
    "    def __iter__(self):\n",
    "        node = self.head\n",
    "        while node:\n",
    "            yield node\n",
    "            node = node.next\n",
    "        \n",
    "    def insertSLL(self, value, location):\n",
    "        newNode = Node(value)\n",
    "        if self.head is None:\n",
    "            self.head = newNode\n",
    "            self.tail = newNode\n",
    "        else:\n",
    "            if location == 0:\n",
    "                newNode.next = self.head\n",
    "                self.head = newNode\n",
    "            elif location == 1:\n",
    "                newNode.next = None\n",
    "                self.tail.next = newNode \n",
    "                self.tail = newNode\n",
    "            else:\n",
    "                tempNode = self.head\n",
    "                index = 0\n",
    "                while index < location-1:\n",
    "                    tempNode = tempNode.next\n",
    "                    index += 1\n",
    "                nextNode = tempNode.next\n",
    "                tempNode.next = newNode\n",
    "                newNode.next = nextNode\n",
    "                \n",
    "                \n",
    "                \n",
    "    def traverseSLL(self):\n",
    "        if self.head is None:\n",
    "            print(\"The Singly Linked List does not exist\")\n",
    "            \n",
    "        else:\n",
    "            node = self.head\n",
    "            while node is not None:\n",
    "                print(node.value)\n",
    "                node = node.next\n",
    "                \n",
    "                \n",
    "                        \n",
    "    def searchSLL(self, nodeValue):\n",
    "        if self.head is None:\n",
    "            return \"The list does not exist\"\n",
    "        else :\n",
    "            node = self.head\n",
    "            while node is not None:\n",
    "                if node.value == nodeValue:\n",
    "                    return node.value\n",
    "                node = node.next\n",
    "            return \"The value does not exits in this list\"\n",
    "        \n",
    "                \n",
    "\n",
    "    def deleteNode(self, location):\n",
    "        if self.head is Node:\n",
    "            print(\"The SLL does not exits\")\n",
    "        else:\n",
    "            if location == 0:\n",
    "                if self.head == self.tail:\n",
    "                    self.head = None\n",
    "                    self.tail = None\n",
    "                \n",
    "                else:\n",
    "                    self.head = self.head.next\n",
    "            elif location == 1 :\n",
    "                if self.head == self.tail:\n",
    "                    self.head = None\n",
    "                    self.tail = None\n",
    "                else: \n",
    "                    node = self.head\n",
    "                    while node is not None:\n",
    "                        if node.next == self.tail:\n",
    "                            break\n",
    "                        node = node.next\n",
    "                    node.next = None\n",
    "                    self.tail = node\n",
    "            else:\n",
    "                tempNode = self.head\n",
    "                index = 0\n",
    "                while index < location -1 :\n",
    "                    tempNode = tempNode.next\n",
    "                    index +=1\n",
    "                nextNode = tempNode.next\n",
    "                tempNode.next = nextNode.next\n",
    "                \n",
    "                \n",
    "            \n",
    "    \n",
    "    def deleteEntireSLL(self):\n",
    "        \n",
    "        if self.head is None:\n",
    "            print('The SLL does not exist')\n",
    "        else:\n",
    "            self.head = None\n",
    "            self.tail = None\n",
    "            \n",
    "            \n",
    "    \n",
    "singlyLinkedList = SLinkedList()\n",
    "\n",
    "\n",
    "singlyLinkedList.insertSLL(1,1)\n",
    "singlyLinkedList.insertSLL(2,1)\n",
    "singlyLinkedList.insertSLL(3,1)\n",
    "singlyLinkedList.insertSLL(4,1)\n",
    "\n",
    "\n",
    "singlyLinkedList.insertSLL(0,3)\n",
    "print([node.value for node in singlyLinkedList])\n",
    "singlyLinkedList.traverseSLL()\n",
    "\n",
    "print(singlyLinkedList.deleteEntireSLL())\n",
    "\n",
    "print([node.value for node in singlyLinkedList])"
   ]
  },
  {
   "cell_type": "code",
   "execution_count": null,
   "id": "3e8416eb",
   "metadata": {},
   "outputs": [],
   "source": []
  },
  {
   "cell_type": "code",
   "execution_count": null,
   "id": "5e3f2332",
   "metadata": {},
   "outputs": [],
   "source": []
  }
 ],
 "metadata": {
  "kernelspec": {
   "display_name": "Python 3",
   "language": "python",
   "name": "python3"
  },
  "language_info": {
   "codemirror_mode": {
    "name": "ipython",
    "version": 3
   },
   "file_extension": ".py",
   "mimetype": "text/x-python",
   "name": "python",
   "nbconvert_exporter": "python",
   "pygments_lexer": "ipython3",
   "version": "3.8.8"
  }
 },
 "nbformat": 4,
 "nbformat_minor": 5
}
